{
 "cells": [
  {
   "cell_type": "markdown",
   "metadata": {},
   "source": [
    "# Lab | Intro to Probability"
   ]
  },
  {
   "cell_type": "markdown",
   "metadata": {},
   "source": [
    "**Objective**\n",
    "\n",
    "Welcome to this Intro to Probability lab, where we explore decision-making scenarios through the lens of probability and strategic analysis. In the business world, making informed decisions is crucial, especially when faced with uncertainties. This lab focuses on scenarios where probabilistic outcomes play a significant role in shaping strategies and outcomes. Students will engage in exercises that require assessing and choosing optimal paths based on data-driven insights. The goal is to enhance your skills by applying probability concepts to solve real-world problems."
   ]
  },
  {
   "cell_type": "markdown",
   "metadata": {},
   "source": [
    "**Challenge 1**"
   ]
  },
  {
   "cell_type": "markdown",
   "metadata": {},
   "source": [
    "#### Ironhack Airlines \n",
    "\n",
    "Often Airlines sell more tickets than they have seats available, this is called overbooking. Consider the following:\n",
    "- A plane has 450 seats. \n",
    "- Based on historical data we conclude that each individual passenger has a 3% chance of missing it's flight. \n",
    "\n",
    "If the Ironhack Airlines routinely sells 460 tickets, what is the chance that they have a seats for all passenger?"
   ]
  },
  {
   "cell_type": "code",
   "execution_count": 5,
   "metadata": {},
   "outputs": [],
   "source": [
    "import numpy as np\n",
    "from scipy.stats import norm\n",
    "import scipy.stats as stats"
   ]
  },
  {
   "cell_type": "code",
   "execution_count": 3,
   "metadata": {},
   "outputs": [
    {
     "name": "stdout",
     "output_type": "stream",
     "text": [
      "The probability that all passengers will have seats is approximately 0.8505 or 85.05%.\n"
     ]
    }
   ],
   "source": [
    "#code here\n",
    "\n",
    "n = 450\n",
    "t = 460\n",
    "\n",
    "p = 0.03\n",
    "\n",
    "q = 1 - p\n",
    "\n",
    "# Calculate mean and standard deviation\n",
    "\n",
    "mean = t * q\n",
    "std_dev = np.sqrt(t * q * p)\n",
    "\n",
    "\n",
    "# Calculate the Z-score for the number of seats available\n",
    "\n",
    "z_score = (n - mean) / std_dev\n",
    "\n",
    "# Calculate the cumulative probability for the Z-score\n",
    "\n",
    "probability = norm.cdf(z_score)\n",
    "\n",
    "print(f\"The probability that all passengers will have seats is approximately {probability:.4f} or {probability*100:.2f}%.\")\n",
    "\n",
    "\n"
   ]
  },
  {
   "cell_type": "code",
   "execution_count": 7,
   "metadata": {},
   "outputs": [
    {
     "name": "stdout",
     "output_type": "stream",
     "text": [
      "The probability that all passengers will have seats is approximately 0.8845 or 88.45%.\n"
     ]
    }
   ],
   "source": [
    "# Calculate the probability using the binomial cumulative distribution function\n",
    "\n",
    "probability = stats.binom.cdf(n, t, q)\n",
    "\n",
    "print(f\"The probability that all passengers will have seats is approximately {probability:.4f} or {probability*100:.2f}%.\")"
   ]
  },
  {
   "cell_type": "markdown",
   "metadata": {},
   "source": [
    "We want to calculate the probability that 450 or fewer passengers will show up for a flight when 460 tickets are sold, given that each passenger has a 97% chance of showing up.\n",
    "\n",
    "Why Use the Binomial Distribution?\n",
    "\n",
    "The binomial distribution is appropriate for modeling the number of successes in a fixed number of independent Bernoulli trials (where each trial results in a success with probability  p  or failure with probability  1 - p ). In this context:\n",
    "\n",
    "- Each ticket sold can be considered an independent trial.\n",
    "- A “success” is a passenger showing up, with probability  p = 0.97 .\n",
    "- A “failure” is a passenger not showing up, with probability  1 - p = 0.03 .\n",
    "\n",
    "Binomial Cumulative Distribution Function (CDF)\n",
    "\n",
    "The binomial CDF gives the probability that a binomial random variable  X  is less than or equal to a given value  k . Mathematically:\n",
    " P(X <= k) \n",
    " \n",
    "Where  X  is the number of passengers that show up,  k  is the number of seats (450 in this case),  n  is the number of trials (460), and  p  is the probability of success (0.97).\n"
   ]
  },
  {
   "cell_type": "markdown",
   "metadata": {},
   "source": [
    "**Challenge 2**"
   ]
  },
  {
   "cell_type": "markdown",
   "metadata": {},
   "source": [
    "#### Ironhack Call Center "
   ]
  },
  {
   "cell_type": "markdown",
   "metadata": {},
   "source": [
    "Suppose a customer service representative at a call center is handling customer complaints. Consider the following:\n",
    "- The probability of successfully resolving a customer complaint on the first attempt is 0.3. \n",
    "\n",
    "\n",
    "What is the probability that the representative needs to make at least three attempts before successfully resolving a customer complaint?"
   ]
  },
  {
   "cell_type": "code",
   "execution_count": 9,
   "metadata": {},
   "outputs": [
    {
     "data": {
      "text/plain": [
       "0.49"
      ]
     },
     "execution_count": 9,
     "metadata": {},
     "output_type": "execute_result"
    }
   ],
   "source": [
    "#code here\n",
    "\n",
    "p = 0.3\n",
    "\n",
    "# We need to find the probability that the representative needs at \n",
    "# least three attempts before successfully resolving the complaint.\n",
    "\n",
    "probability_3attempts = 1 - (p * (2-p))\n",
    "\n",
    "probability_3attempts"
   ]
  },
  {
   "cell_type": "markdown",
   "metadata": {},
   "source": [
    " P(X >= 3) = 1 - P(X =< 2) = 1 - p (2 - p) "
   ]
  },
  {
   "cell_type": "markdown",
   "metadata": {},
   "source": [
    "**Challenge 3**"
   ]
  },
  {
   "cell_type": "markdown",
   "metadata": {},
   "source": [
    "#### Ironhack Website"
   ]
  },
  {
   "cell_type": "markdown",
   "metadata": {},
   "source": [
    "Consider a scenario related to Ironhack website traffic. Where:\n",
    "- our website takes on average 500 visits per hour.\n",
    "- the website's server is designed to handle up to 550 vists per hour.\n",
    "\n",
    "\n",
    "What is the probability of the website server being overwhelmed?"
   ]
  },
  {
   "cell_type": "code",
   "execution_count": 10,
   "metadata": {},
   "outputs": [
    {
     "data": {
      "text/plain": [
       "0.01289822084039205"
      ]
     },
     "execution_count": 10,
     "metadata": {},
     "output_type": "execute_result"
    }
   ],
   "source": [
    "#code here\n",
    "\n",
    "avg_visits = 500\n",
    "treshold = 550\n",
    "\n",
    "# Calculate the cumulative probability of X being less than or equal to 550\n",
    "\n",
    "probability = stats.poisson.cdf(treshold, avg_visits)\n",
    "\n",
    "# the probability of the number of visits be more than 550\n",
    "\n",
    "probability_more_than_550 = 1 - probability\n",
    "\n",
    "probability_more_than_550"
   ]
  },
  {
   "cell_type": "markdown",
   "metadata": {},
   "source": [
    "What is the probability of being overwhelmed at some point during a day? (consider 24hours)"
   ]
  },
  {
   "cell_type": "code",
   "execution_count": 11,
   "metadata": {},
   "outputs": [
    {
     "data": {
      "text/plain": [
       "0.2677043869515715"
      ]
     },
     "execution_count": 11,
     "metadata": {},
     "output_type": "execute_result"
    }
   ],
   "source": [
    "#code here\n",
    "\n",
    "# probability of not being overwhelmed in one hour\n",
    "\n",
    "p_hour = 1 - probability_more_than_550 \n",
    "\n",
    "# probability of not being overwhelmed in 24 hours\n",
    "\n",
    "p_day = p_hour ** 24\n",
    "\n",
    "# probability of being overwhelmed in 24 hours (at least once)\n",
    "\n",
    "p_overwhelmed = 1 - p_day\n",
    "\n",
    "p_overwhelmed"
   ]
  },
  {
   "cell_type": "markdown",
   "metadata": {},
   "source": [
    "**Challenge 4**"
   ]
  },
  {
   "cell_type": "markdown",
   "metadata": {},
   "source": [
    "#### Ironhack Helpdesk"
   ]
  },
  {
   "cell_type": "markdown",
   "metadata": {},
   "source": [
    "Consider a scenario related to the time between arrivals of customers at a service desk.\n",
    "\n",
    "On average, a customers arrives every 10minutes.\n",
    "\n",
    "What is the probability that the next customer will arrive within the next 5 minutes?"
   ]
  },
  {
   "cell_type": "code",
   "execution_count": 13,
   "metadata": {},
   "outputs": [
    {
     "data": {
      "text/plain": [
       "0.3934693402873666"
      ]
     },
     "execution_count": 13,
     "metadata": {},
     "output_type": "execute_result"
    }
   ],
   "source": [
    "from scipy.stats import expon\n",
    "\n",
    "# the lambda represents the rate of events occuring\n",
    "\n",
    "lambda_v = 0.1\n",
    "\n",
    "lambda_inv = expon(scale = 1/lambda_v)\n",
    "\n",
    "lambda_inv.cdf(5)\n"
   ]
  },
  {
   "cell_type": "markdown",
   "metadata": {},
   "source": [
    "If there is no customer for 15minutes, employees can that a 5minutes break.\n",
    "\n",
    "What is the probability an employee taking a break?"
   ]
  },
  {
   "cell_type": "code",
   "execution_count": 14,
   "metadata": {},
   "outputs": [
    {
     "data": {
      "text/plain": [
       "0.5934303402594008"
      ]
     },
     "execution_count": 14,
     "metadata": {},
     "output_type": "execute_result"
    }
   ],
   "source": [
    "lambda_v2 = 0.06\n",
    "\n",
    "lambda_inv2 = expon(scale = 1/lambda_v2)\n",
    "\n",
    "lambda_inv2.cdf(15)"
   ]
  },
  {
   "cell_type": "markdown",
   "metadata": {},
   "source": [
    "**Challenge 5**"
   ]
  },
  {
   "cell_type": "markdown",
   "metadata": {},
   "source": [
    "The weights of a certain species of birds follow a normal distribution with a mean weight of 150 grams and a standard deviation of 10 grams. \n",
    "\n",
    "- If we randomly select a bird, what is the probability that its weight is between 140 and 160 grams?"
   ]
  },
  {
   "cell_type": "code",
   "execution_count": 20,
   "metadata": {},
   "outputs": [
    {
     "data": {
      "text/plain": [
       "0.6826894921370859"
      ]
     },
     "execution_count": 20,
     "metadata": {},
     "output_type": "execute_result"
    }
   ],
   "source": [
    "#code here\n",
    "\n",
    "mean = 150\n",
    "\n",
    "std_dev = 10\n",
    "\n",
    "norm_dist = norm(loc = mean, scale = std_dev)\n",
    "\n",
    "#Calculate the probability of the bird weight be inbetween 140 and 160 grams\n",
    "\n",
    "probability = norm_dist.cdf(160) - norm_dist.cdf(140)\n",
    "\n",
    "probability"
   ]
  },
  {
   "cell_type": "markdown",
   "metadata": {},
   "source": [
    "**Challenge 6**"
   ]
  },
  {
   "cell_type": "markdown",
   "metadata": {},
   "source": [
    "If the lifetime (in hours) of a certain electronic component follows an exponential distribution with a mean lifetime of 50 hours, what is the probability that the component fails within the first 30 hours?"
   ]
  },
  {
   "cell_type": "code",
   "execution_count": 21,
   "metadata": {},
   "outputs": [
    {
     "data": {
      "text/plain": [
       "0.4511883639059736"
      ]
     },
     "execution_count": 21,
     "metadata": {},
     "output_type": "execute_result"
    }
   ],
   "source": [
    "#code here\n",
    "\n",
    "mean = 50\n",
    "\n",
    "fail = 30\n",
    "\n",
    "lambda_rate = 1 / mean\n",
    "\n",
    "# Calculate the probability of the system failing in the first 30 hours\n",
    "\n",
    "probability = expon(scale = 1/lambda_rate).cdf(fail)\n",
    "\n",
    "probability"
   ]
  }
 ],
 "metadata": {
  "kernelspec": {
   "display_name": "Python 3",
   "language": "python",
   "name": "python3"
  },
  "language_info": {
   "codemirror_mode": {
    "name": "ipython",
    "version": 3
   },
   "file_extension": ".py",
   "mimetype": "text/x-python",
   "name": "python",
   "nbconvert_exporter": "python",
   "pygments_lexer": "ipython3",
   "version": "3.11.7"
  }
 },
 "nbformat": 4,
 "nbformat_minor": 2
}
